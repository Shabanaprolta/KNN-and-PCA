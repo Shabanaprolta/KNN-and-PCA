{
  "nbformat": 4,
  "nbformat_minor": 0,
  "metadata": {
    "colab": {
      "provenance": []
    },
    "kernelspec": {
      "name": "python3",
      "display_name": "Python 3"
    },
    "language_info": {
      "name": "python"
    }
  },
  "cells": [
    {
      "cell_type": "markdown",
      "source": [
        "# Theoretical Questions"
      ],
      "metadata": {
        "id": "LCyViFMKy3sh"
      }
    },
    {
      "cell_type": "markdown",
      "source": [
        "#1. What is K-Nearest Neighbors (KNN) and how does it work?\n",
        "-> KNN is a supervised machine learning algorithm used for classification and regression. It works by finding the ‘K’ nearest data points (neighbors) to a given query point using a distance metric (like Euclidean distance) and assigns the most common class (for classification) or average value (for regression).\n",
        "\n",
        "#2. What is the difference between KNN Classification and KNN Regression?\n",
        "\n",
        "-> KNN Classification assigns a class label based on the majority vote of the K nearest neighbors.\n",
        "\n",
        "KNN Regression predicts a continuous value based on the average (or weighted average) of the K nearest neighbors’ values.\n",
        "\n",
        "#3. What is the role of the distance metric in KNN?\n",
        "-> The distance metric determines how the similarity between points is measured. Common metrics include Euclidean, Manhattan, and Minkowski distances. The metric affects which neighbors are considered \"nearest\" and hence influences the prediction.\n",
        "\n",
        "#4. What is the Curse of Dimensionality in KNN?\n",
        "-> As the number of features (dimensions) increases, the data points become sparse and the distance between them becomes less meaningful, making it harder for KNN to find relevant neighbors and reducing its effectiveness.\n",
        "\n",
        "#5. How can we choose the best value of K in KNN?\n",
        "-> The best value of K is usually chosen through experimentation using methods like cross-validation. A small K may lead to overfitting, while a large K can lead to underfitting.\n",
        "\n",
        "#6. What are KD Tree and Ball Tree in KNN?\n",
        "-> KD Tree and Ball Tree are data structures used to optimize the nearest neighbor search in KNN by organizing data points in a tree-like structure, which makes querying more efficient, especially in lower dimensions.\n",
        "\n",
        "#7. When should you use KD Tree vs. Ball Tree?\n",
        "\n",
        "-> KD Tree is more efficient for low-dimensional data.\n",
        "\n",
        "Ball Tree is better suited for high-dimensional or non-uniform data distributions.\n",
        "\n",
        "#8. What are the disadvantages of KNN?\n",
        "\n",
        "-> High computation cost for large datasets.\n",
        "\n",
        "Sensitive to irrelevant features and feature scaling.\n",
        "\n",
        "Poor performance in high-dimensional spaces.\n",
        "\n",
        "Requires storing the entire training dataset.\n",
        "\n",
        "#9. How does feature scaling affect KNN?\n",
        "\n",
        "-> KNN relies on distance metrics, so features with larger scales can dominate the distance calculation. Feature scaling (like normalization or standardization) ensures all features contribute equally.\n",
        "\n",
        "#10. What is PCA (Principal Component Analysis)?\n",
        "-> PCA is a dimensionality reduction technique that transforms a dataset into a set of linearly uncorrelated components (principal components) while preserving as much variance as possible.\n",
        "\n",
        "#11. How does PCA work?\n",
        "-> PCA computes the covariance matrix of the data, finds its eigenvalues and eigenvectors, and projects the data onto the top ‘k’ eigenvectors (principal components) that capture the most variance.\n",
        "\n",
        "#12. What is the geometric intuition behind PCA?\n",
        "-> PCA rotates the data to align with directions of maximum variance. It finds new axes (principal components) that better represent the structure of the data in fewer dimensions.\n",
        "\n",
        "#13. What is the difference between Feature Selection and Feature Extraction?\n",
        "\n",
        "-> Feature Selection chooses a subset of existing features.\n",
        "\n",
        "Feature Extraction creates new features from the original ones (like PCA), combining information to reduce dimensionality.\n",
        "\n",
        "#14. What are Eigenvalues and Eigenvectors in PCA?\n",
        "->\n",
        "Eigenvectors represent directions (principal components) in which data varies the most.\n",
        "\n",
        "Eigenvalues indicate the magnitude of variance in those directions.\n",
        "\n",
        "#15. How do you decide the number of components to keep in PCA?\n",
        "->You can choose the number of components based on the explained variance ratio — often by selecting enough components to retain 95% of the variance.\n",
        "\n",
        "#16. Can PCA be used for classification?\n",
        "-> PCA itself is not a classification algorithm, but it can be used as a preprocessing step to reduce dimensionality before applying classification algorithms.\n",
        "\n",
        "#17. What are the limitations of PCA?\n",
        "\n",
        "-> Assumes linear relationships.\n",
        "\n",
        "Sensitive to scaling.\n",
        "\n",
        "May lose interpretability.\n",
        "\n",
        "Not effective if data is not centered or normalized.\n",
        "\n",
        "#18. How do KNN and PCA complement each other?\n",
        "-> PCA reduces dimensionality, which mitigates the curse of dimensionality and speeds up KNN computations. Applying PCA before KNN can enhance performance and accuracy.\n",
        "\n",
        "#19. How does KNN handle missing values in a dataset?\n",
        "-> KNN does not inherently handle missing values. Preprocessing steps like imputation (e.g., using mean or KNN-based imputation) are required to fill in missing values.\n",
        "\n",
        "#20. What are the key differences between PCA and Linear Discriminant Analysis (LDA)?\n",
        "->\n",
        "PCA is unsupervised and focuses on maximizing variance.\n",
        "\n",
        "LDA is supervised and aims to maximize class separability.\n",
        "\n",
        "PCA does not use label information, while LDA does.\n",
        "\n"
      ],
      "metadata": {
        "id": "6GHsOHfGy5Yq"
      }
    },
    {
      "cell_type": "markdown",
      "source": [
        "# Practical Questions"
      ],
      "metadata": {
        "id": "b3mC8Y9_24XK"
      }
    },
    {
      "cell_type": "code",
      "source": [
        "#21. Train a KNN Classifier on the Iris dataset and print model accuracy.\n",
        "\n",
        "from sklearn.datasets import load_iris\n",
        "from sklearn.model_selection import train_test_split\n",
        "from sklearn.neighbors import KNeighborsClassifier\n",
        "from sklearn.metrics import accuracy_score\n",
        "\n",
        "# Load dataset\n",
        "iris = load_iris()\n",
        "X, y = iris.data, iris.target\n",
        "\n",
        "# Train-Test Split\n",
        "X_train, X_test, y_train, y_test = train_test_split(X, y, test_size=0.2, random_state=42)\n",
        "\n",
        "# KNN Model\n",
        "knn = KNeighborsClassifier(n_neighbors=3)\n",
        "knn.fit(X_train, y_train)\n",
        "\n",
        "# Predictions & Accuracy\n",
        "y_pred = knn.predict(X_test)\n",
        "print(\"Accuracy:\", accuracy_score(y_test, y_pred))\n"
      ],
      "metadata": {
        "colab": {
          "base_uri": "https://localhost:8080/"
        },
        "id": "EZaseV-w3ASq",
        "outputId": "3fc31996-a0f1-45c3-ea24-6e5d4fe181af"
      },
      "execution_count": 1,
      "outputs": [
        {
          "output_type": "stream",
          "name": "stdout",
          "text": [
            "Accuracy: 1.0\n"
          ]
        }
      ]
    },
    {
      "cell_type": "code",
      "source": [
        "#22. Train a KNN Regressor on a synthetic dataset and evaluate using Mean Squared Error (MSE).\n",
        "\n",
        "from sklearn.datasets import make_regression\n",
        "from sklearn.neighbors import KNeighborsRegressor\n",
        "from sklearn.metrics import mean_squared_error\n",
        "\n",
        "# Create synthetic regression data\n",
        "X, y = make_regression(n_samples=100, n_features=1, noise=10, random_state=42)\n",
        "\n",
        "# Split data\n",
        "X_train, X_test, y_train, y_test = train_test_split(X, y, test_size=0.2, random_state=42)\n",
        "\n",
        "# Train KNN Regressor\n",
        "knn_reg = KNeighborsRegressor(n_neighbors=3)\n",
        "knn_reg.fit(X_train, y_train)\n",
        "\n",
        "# Predict & MSE\n",
        "y_pred = knn_reg.predict(X_test)\n",
        "print(\"MSE:\", mean_squared_error(y_test, y_pred))"
      ],
      "metadata": {
        "colab": {
          "base_uri": "https://localhost:8080/"
        },
        "id": "V3jZ8pam3AF5",
        "outputId": "f56e8d69-1e3d-4b82-f36b-8fd09a29d4cf"
      },
      "execution_count": 2,
      "outputs": [
        {
          "output_type": "stream",
          "name": "stdout",
          "text": [
            "MSE: 128.82204336272395\n"
          ]
        }
      ]
    },
    {
      "cell_type": "code",
      "source": [
        "#23. Train a KNN Classifier using different distance metrics (Euclidean and Manhattan) and compare accuracy.\n",
        "# Load the iris dataset again to get the correct target variable\n",
        "from sklearn.datasets import load_iris\n",
        "\n",
        "iris = load_iris()\n",
        "X, y = iris.data, iris.target\n",
        "\n",
        "# Split data (using the same random_state for consistency)\n",
        "from sklearn.model_selection import train_test_split\n",
        "\n",
        "X_train, X_test, y_train, y_test = train_test_split(X, y, test_size=0.2, random_state=42)\n",
        "\n",
        "# Euclidean\n",
        "from sklearn.neighbors import KNeighborsClassifier\n",
        "\n",
        "knn_euclidean = KNeighborsClassifier(n_neighbors=3, metric='euclidean')\n",
        "knn_euclidean.fit(X_train, y_train)\n",
        "y_pred_eu = knn_euclidean.predict(X_test)\n",
        "\n",
        "# Manhattan\n",
        "knn_manhattan = KNeighborsClassifier(n_neighbors=3, metric='manhattan')\n",
        "knn_manhattan.fit(X_train, y_train)\n",
        "y_pred_man = knn_manhattan.predict(X_test)\n",
        "\n",
        "# Print accuracies\n",
        "from sklearn.metrics import accuracy_score\n",
        "\n",
        "print(\"Euclidean Accuracy:\", accuracy_score(y_test, y_pred_eu))\n",
        "print(\"Manhattan Accuracy:\", accuracy_score(y_test, y_pred_man))"
      ],
      "metadata": {
        "colab": {
          "base_uri": "https://localhost:8080/"
        },
        "id": "3dovsMU13ACW",
        "outputId": "769bdafc-05c8-47d1-8e46-e59e77ff4805"
      },
      "execution_count": 5,
      "outputs": [
        {
          "output_type": "stream",
          "name": "stdout",
          "text": [
            "Euclidean Accuracy: 1.0\n",
            "Manhattan Accuracy: 1.0\n"
          ]
        }
      ]
    },
    {
      "cell_type": "code",
      "source": [
        "#24. Train a KNN Classifier with different values of K and visualize decision boundaries.\n",
        "#Note: Visualization only works with 2D data.\n",
        "\n",
        "import matplotlib.pyplot as plt\n",
        "import numpy as np\n",
        "\n",
        "# Reduce to 2D using Iris petal length & width\n",
        "X_vis = X[:, 2:4]\n",
        "\n",
        "X_train, X_test, y_train, y_test = train_test_split(X_vis, y, test_size=0.2, random_state=42)\n",
        "\n",
        "plt.figure(figsize=(15, 5))\n",
        "for i, k in enumerate([1, 3, 5]):\n",
        "    knn = KNeighborsClassifier(n_neighbors=k)\n",
        "    knn.fit(X_train, y_train)\n",
        "\n",
        "    # Plot decision boundary\n",
        "    h = .02\n",
        "    x_min, x_max = X_vis[:, 0].min() - 1, X_vis[:, 0].max() + 1\n",
        "    y_min, y_max = X_vis[:, 1].min() - 1, X_vis[:, 1].max() + 1\n",
        "    xx, yy = np.meshgrid(np.arange(x_min, x_max, h),\n",
        "                         np.arange(y_min, y_max, h))\n",
        "    Z = knn.predict(np.c_[xx.ravel(), yy.ravel()])\n",
        "    Z = Z.reshape(xx.shape)\n",
        "\n",
        "    plt.subplot(1, 3, i+1)\n",
        "    plt.contourf(xx, yy, Z, alpha=0.4)\n",
        "    plt.scatter(X_vis[:, 0], X_vis[:, 1], c=y, edgecolors='k')\n",
        "    plt.title(f'K = {k}')\n",
        "plt.show()"
      ],
      "metadata": {
        "colab": {
          "base_uri": "https://localhost:8080/",
          "height": 436
        },
        "id": "az1DP_uG2__J",
        "outputId": "5bb16151-e224-435d-ee80-e10f544546b2"
      },
      "execution_count": 6,
      "outputs": [
        {
          "output_type": "display_data",
          "data": {
            "text/plain": [
              "<Figure size 1500x500 with 3 Axes>"
            ],
            "image/png": "[encoded data removed]"
          },
          "metadata": {}
        }
      ]
    },
    {
      "cell_type": "code",
      "source": [
        "#25. Apply Feature Scaling before training a KNN model and compare results with unscaled data.\n",
        "\n",
        "from sklearn.preprocessing import StandardScaler\n",
        "\n",
        "# Without scaling\n",
        "knn_unscaled = KNeighborsClassifier(n_neighbors=3)\n",
        "knn_unscaled.fit(X_train, y_train)\n",
        "y_pred_unscaled = knn_unscaled.predict(X_test)\n",
        "acc_unscaled = accuracy_score(y_test, y_pred_unscaled)\n",
        "\n",
        "# With scaling\n",
        "scaler = StandardScaler()\n",
        "X_train_scaled = scaler.fit_transform(X_train)\n",
        "X_test_scaled = scaler.transform(X_test)\n",
        "\n",
        "knn_scaled = KNeighborsClassifier(n_neighbors=3)\n",
        "knn_scaled.fit(X_train_scaled, y_train)\n",
        "y_pred_scaled = knn_scaled.predict(X_test_scaled)\n",
        "acc_scaled = accuracy_score(y_test, y_pred_scaled)\n",
        "\n",
        "print(\"Unscaled Accuracy:\", acc_unscaled)\n",
        "print(\"Scaled Accuracy:\", acc_scaled)\n"
      ],
      "metadata": {
        "colab": {
          "base_uri": "https://localhost:8080/"
        },
        "id": "byHKF3WP2_7P",
        "outputId": "eb0ca22d-4124-461a-d167-4ecc8b22625b"
      },
      "execution_count": 7,
      "outputs": [
        {
          "output_type": "stream",
          "name": "stdout",
          "text": [
            "Unscaled Accuracy: 1.0\n",
            "Scaled Accuracy: 1.0\n"
          ]
        }
      ]
    },
    {
      "cell_type": "code",
      "source": [
        "#26. Train a PCA model on synthetic data and print the explained variance ratio for each component.\n",
        "from sklearn.decomposition import PCA\n",
        "\n",
        "# Generate synthetic data\n",
        "X_syn, _ = make_regression(n_samples=100, n_features=5, noise=10, random_state=42)\n",
        "\n",
        "# Apply PCA\n",
        "pca = PCA()\n",
        "pca.fit(X_syn)\n",
        "\n",
        "print(\"Explained Variance Ratio:\", pca.explained_variance_ratio_)\n"
      ],
      "metadata": {
        "colab": {
          "base_uri": "https://localhost:8080/"
        },
        "id": "a_uajxFd2_4G",
        "outputId": "4d386ff0-71d2-43ce-cea0-1d3ed2ddf901"
      },
      "execution_count": 8,
      "outputs": [
        {
          "output_type": "stream",
          "name": "stdout",
          "text": [
            "Explained Variance Ratio: [0.26256655 0.21579693 0.20219416 0.18127308 0.13816928]\n"
          ]
        }
      ]
    },
    {
      "cell_type": "code",
      "source": [
        "#27. Apply PCA before training a KNN Classifier and compare accuracy with and without PCA.\n",
        "\n",
        "# Without PCA\n",
        "knn_no_pca = KNeighborsClassifier(n_neighbors=3)\n",
        "knn_no_pca.fit(X_train_scaled, y_train)\n",
        "acc_no_pca = accuracy_score(y_test, knn_no_pca.predict(X_test_scaled))\n",
        "\n",
        "# With PCA\n",
        "pca = PCA(n_components=2)\n",
        "X_train_pca = pca.fit_transform(X_train_scaled)\n",
        "X_test_pca = pca.transform(X_test_scaled)\n",
        "\n",
        "knn_with_pca = KNeighborsClassifier(n_neighbors=3)\n",
        "knn_with_pca.fit(X_train_pca, y_train)\n",
        "acc_with_pca = accuracy_score(y_test, knn_with_pca.predict(X_test_pca))\n",
        "\n",
        "print(\"Accuracy without PCA:\", acc_no_pca)\n",
        "print(\"Accuracy with PCA:\", acc_with_pca)"
      ],
      "metadata": {
        "colab": {
          "base_uri": "https://localhost:8080/"
        },
        "id": "kSEsPjAF2_0c",
        "outputId": "92597f9e-91fe-46df-e811-ee2d92258bd9"
      },
      "execution_count": 9,
      "outputs": [
        {
          "output_type": "stream",
          "name": "stdout",
          "text": [
            "Accuracy without PCA: 1.0\n",
            "Accuracy with PCA: 1.0\n"
          ]
        }
      ]
    },
    {
      "cell_type": "code",
      "source": [
        "#28. Perform Hyperparameter Tuning on a KNN Classifier using GridSearchCV.\n",
        "\n",
        "from sklearn.model_selection import GridSearchCV\n",
        "\n",
        "# Hyperparameter tuning\n",
        "params = {'n_neighbors': list(range(1, 11))}\n",
        "grid = GridSearchCV(KNeighborsClassifier(), params, cv=5)\n",
        "grid.fit(X_train_scaled, y_train)\n",
        "\n",
        "print(\"Best Parameters:\", grid.best_params_)\n",
        "print(\"Best Accuracy:\", grid.best_score_)\n"
      ],
      "metadata": {
        "colab": {
          "base_uri": "https://localhost:8080/"
        },
        "id": "RIZeHfRz2_xo",
        "outputId": "8450f973-521e-4167-dda8-8ec84a48489e"
      },
      "execution_count": 10,
      "outputs": [
        {
          "output_type": "stream",
          "name": "stdout",
          "text": [
            "Best Parameters: {'n_neighbors': 3}\n",
            "Best Accuracy: 0.95\n"
          ]
        }
      ]
    },
    {
      "cell_type": "code",
      "source": [
        "#29. Train a KNN Classifier and check the number of misclassified samples.\n",
        "\n",
        "knn = KNeighborsClassifier(n_neighbors=3)\n",
        "knn.fit(X_train_scaled, y_train)\n",
        "y_pred = knn.predict(X_test_scaled)\n",
        "\n",
        "misclassified = (y_test != y_pred).sum()\n",
        "print(\"Number of misclassified samples:\", misclassified)\n"
      ],
      "metadata": {
        "colab": {
          "base_uri": "https://localhost:8080/"
        },
        "id": "wxP7E0Zn2_tq",
        "outputId": "ab336807-d607-4af9-c1b0-973f25c26a7b"
      },
      "execution_count": 11,
      "outputs": [
        {
          "output_type": "stream",
          "name": "stdout",
          "text": [
            "Number of misclassified samples: 0\n"
          ]
        }
      ]
    },
    {
      "cell_type": "code",
      "source": [
        "#30. Train a PCA model and visualize the cumulative explained variance.\n",
        "\n",
        "import matplotlib.pyplot as plt\n",
        "import numpy as np\n",
        "\n",
        "pca = PCA()\n",
        "pca.fit(X_scaled := StandardScaler().fit_transform(X))\n",
        "\n",
        "cumulative_variance = np.cumsum(pca.explained_variance_ratio_)\n",
        "\n",
        "plt.plot(range(1, len(cumulative_variance)+1), cumulative_variance, marker='o')\n",
        "plt.title('Cumulative Explained Variance')\n",
        "plt.xlabel('Number of Components')\n",
        "plt.ylabel('Cumulative Variance')\n",
        "plt.grid(True)\n",
        "plt.show()\n"
      ],
      "metadata": {
        "colab": {
          "base_uri": "https://localhost:8080/",
          "height": 472
        },
        "id": "BlOzeboB2_qi",
        "outputId": "243a3bcf-c9f1-43cb-af72-e29d10c9b3ea"
      },
      "execution_count": 12,
      "outputs": [
        {
          "output_type": "display_data",
          "data": {
            "text/plain": [
              "<Figure size 640x480 with 1 Axes>"
            ],
            "image/png": "[encoded data removed]"
          },
          "metadata": {}
        }
      ]
    },
    {
      "cell_type": "code",
      "source": [
        "# Q31: Compare KNN with uniform vs distance weights.\n",
        "from sklearn.datasets import load_iris\n",
        "from sklearn.model_selection import train_test_split\n",
        "from sklearn.preprocessing import StandardScaler\n",
        "from sklearn.neighbors import KNeighborsClassifier\n",
        "\n",
        "iris = load_iris()\n",
        "X, y = iris.data, iris.target\n",
        "X_scaled = StandardScaler().fit_transform(X)\n",
        "X_train, X_test, y_train, y_test = train_test_split(X_scaled, y, test_size=0.2, random_state=42)\n",
        "\n",
        "uniform_model = KNeighborsClassifier(n_neighbors=3, weights='uniform')\n",
        "uniform_model.fit(X_train, y_train)\n",
        "\n",
        "distance_model = KNeighborsClassifier(n_neighbors=3, weights='distance')\n",
        "distance_model.fit(X_train, y_train)\n",
        "print(\" Compare KNN with uniform vs distance weights\")\n",
        "print(\"Uniform Accuracy:\", uniform_model.score(X_test, y_test))\n",
        "print(\"Distance Accuracy:\", distance_model.score(X_test, y_test))\n",
        "\n"
      ],
      "metadata": {
        "colab": {
          "base_uri": "https://localhost:8080/"
        },
        "id": "zyYtYJe22_nW",
        "outputId": "d23a9e86-3049-4afe-a801-c45a10312c7d"
      },
      "execution_count": 14,
      "outputs": [
        {
          "output_type": "stream",
          "name": "stdout",
          "text": [
            " Compare KNN with uniform vs distance weights\n",
            "Uniform Accuracy: 1.0\n",
            "Distance Accuracy: 1.0\n"
          ]
        }
      ]
    },
    {
      "cell_type": "code",
      "source": [
        "# Q32: Evaluate KNN Regressor for K=1 to 10 using MSE.\n",
        "from sklearn.datasets import make_regression\n",
        "from sklearn.neighbors import KNeighborsRegressor\n",
        "from sklearn.metrics import mean_squared_error\n",
        "\n",
        "X_reg, y_reg = make_regression(n_samples=100, n_features=4, noise=0.2, random_state=42)\n",
        "X_train, X_test, y_train, y_test = train_test_split(X_reg, y_reg, test_size=0.2, random_state=42)\n",
        "\n",
        "print(\"Evaluate KNN Regressor for K=1 to 10 using MSE\")\n",
        "for k in range(1, 11):\n",
        "    model = KNeighborsRegressor(n_neighbors=k)\n",
        "    model.fit(X_train, y_train)\n",
        "    preds = model.predict(X_test)\n",
        "    mse = mean_squared_error(y_test, preds)\n",
        "    print(f\"K={k}, MSE={mse:.2f}\")\n"
      ],
      "metadata": {
        "colab": {
          "base_uri": "https://localhost:8080/"
        },
        "id": "JjpA7V3E2_lL",
        "outputId": "2aa4a90f-6ccf-4c87-c47c-baf165089f27"
      },
      "execution_count": 15,
      "outputs": [
        {
          "output_type": "stream",
          "name": "stdout",
          "text": [
            "Evaluate KNN Regressor for K=1 to 10 using MSE\n",
            "K=1, MSE=2041.31\n",
            "K=2, MSE=1190.57\n",
            "K=3, MSE=1357.30\n",
            "K=4, MSE=928.87\n",
            "K=5, MSE=801.58\n",
            "K=6, MSE=1154.57\n",
            "K=7, MSE=1347.04\n",
            "K=8, MSE=1316.98\n",
            "K=9, MSE=1414.08\n",
            "K=10, MSE=1399.53\n"
          ]
        }
      ]
    },
    {
      "cell_type": "code",
      "source": [
        "# Q33: Apply PCA to reduce Iris dataset to 2 components.\n",
        "from sklearn.decomposition import PCA\n",
        "\n",
        "pca = PCA(n_components=2)\n",
        "pca_result = pca.fit_transform(iris.data)\n",
        "\n",
        "print(\"Apply PCA to reduce Iris dataset to 2 components\")\n",
        "print(\"Explained Variance Ratio:\", pca.explained_variance_ratio_)\n"
      ],
      "metadata": {
        "colab": {
          "base_uri": "https://localhost:8080/"
        },
        "id": "-SBh8MX42_gq",
        "outputId": "75ba6c2e-a6fb-4b53-98d9-f90bfed00970"
      },
      "execution_count": 16,
      "outputs": [
        {
          "output_type": "stream",
          "name": "stdout",
          "text": [
            "Apply PCA to reduce Iris dataset to 2 components\n",
            "Explained Variance Ratio: [0.92461872 0.05306648]\n"
          ]
        }
      ]
    },
    {
      "cell_type": "code",
      "source": [
        "# Q34: Apply PCA on Wine dataset to 2D.\n",
        "from sklearn.datasets import load_wine\n",
        "\n",
        "wine = load_wine()\n",
        "pca = PCA(n_components=2)\n",
        "pca_result = pca.fit_transform(wine.data)\n",
        "\n",
        "print(\"Apply PCA on Wine dataset to 2D\")\n",
        "print(\"Explained Variance Ratio:\", pca.explained_variance_ratio_)"
      ],
      "metadata": {
        "colab": {
          "base_uri": "https://localhost:8080/"
        },
        "id": "6WTPouEa2_dR",
        "outputId": "b887c53b-f5ec-48c1-89d5-4e030c6ec428"
      },
      "execution_count": 17,
      "outputs": [
        {
          "output_type": "stream",
          "name": "stdout",
          "text": [
            "Apply PCA on Wine dataset to 2D\n",
            "Explained Variance Ratio: [0.99809123 0.00173592]\n"
          ]
        }
      ]
    },
    {
      "cell_type": "code",
      "source": [
        "# Q35: Train KNN on Wine dataset and show classification report.\n",
        "from sklearn.metrics import classification_report\n",
        "\n",
        "X_train, X_test, y_train, y_test = train_test_split(wine.data, wine.target, test_size=0.2, random_state=42)\n",
        "knn = KNeighborsClassifier()\n",
        "knn.fit(X_train, y_train)\n",
        "y_pred = knn.predict(X_test)\n",
        "\n",
        "print(\"Train KNN on Wine dataset and show classification report\")\n",
        "print(classification_report(y_test, y_pred))\n"
      ],
      "metadata": {
        "colab": {
          "base_uri": "https://localhost:8080/"
        },
        "id": "s3nolI9g2_Z3",
        "outputId": "75aec0f1-2aa9-4c57-c766-7f991af48a29"
      },
      "execution_count": 18,
      "outputs": [
        {
          "output_type": "stream",
          "name": "stdout",
          "text": [
            "Train KNN on Wine dataset and show classification report\n",
            "              precision    recall  f1-score   support\n",
            "\n",
            "           0       0.86      0.86      0.86        14\n",
            "           1       0.79      0.79      0.79        14\n",
            "           2       0.38      0.38      0.38         8\n",
            "\n",
            "    accuracy                           0.72        36\n",
            "   macro avg       0.67      0.67      0.67        36\n",
            "weighted avg       0.72      0.72      0.72        36\n",
            "\n"
          ]
        }
      ]
    },
    {
      "cell_type": "code",
      "source": [
        "# Q36: Find best K (1–20) for KNN classifier on Iris using accuracy.\n",
        "print(\"Find best K (1–20) for KNN classifier on Iris using accuracy\")\n",
        "best_k = 1\n",
        "best_acc = 0\n",
        "for k in range(1, 21):\n",
        "    model = KNeighborsClassifier(n_neighbors=k)\n",
        "    model.fit(X_train, y_train)\n",
        "    acc = model.score(X_test, y_test)\n",
        "    if acc > best_acc:\n",
        "        best_acc = acc\n",
        "        best_k = k\n",
        "print(f\"Best K: {best_k}, Accuracy: {best_acc:.4f}\")\n"
      ],
      "metadata": {
        "colab": {
          "base_uri": "https://localhost:8080/"
        },
        "id": "kBH3_sJ02_We",
        "outputId": "2844d6dd-3f10-4d88-9979-e1506f8322dc"
      },
      "execution_count": 19,
      "outputs": [
        {
          "output_type": "stream",
          "name": "stdout",
          "text": [
            "Find best K (1–20) for KNN classifier on Iris using accuracy\n",
            "Best K: 3, Accuracy: 0.8056\n"
          ]
        }
      ]
    },
    {
      "cell_type": "code",
      "source": [
        "# Q37: Apply PCA with 95% variance retention on Wine dataset.\n",
        "pca = PCA(n_components=0.95)\n",
        "pca.fit(wine.data)\n",
        "\n",
        "print(\"Apply PCA with 95% variance retention on Wine dataset\")\n",
        "print(\"Number of components selected:\", pca.n_components_)\n"
      ],
      "metadata": {
        "colab": {
          "base_uri": "https://localhost:8080/"
        },
        "id": "klbdjbpp2_Qw",
        "outputId": "ee7bd571-3094-4ec8-faed-2122ef6f6729"
      },
      "execution_count": 20,
      "outputs": [
        {
          "output_type": "stream",
          "name": "stdout",
          "text": [
            "Apply PCA with 95% variance retention on Wine dataset\n",
            "Number of components selected: 1\n"
          ]
        }
      ]
    },
    {
      "cell_type": "code",
      "source": [
        "# Q38: Compare accuracy before and after PCA on Wine dataset.\n",
        "pca = PCA(n_components=2)\n",
        "X_pca = pca.fit_transform(wine.data)\n",
        "X_train_pca, X_test_pca, y_train, y_test = train_test_split(X_pca, wine.target, test_size=0.2, random_state=42)\n",
        "\n",
        "model_original = KNeighborsClassifier()\n",
        "model_original.fit(X_train, y_train)\n",
        "acc_original = model_original.score(X_test, y_test)\n",
        "\n",
        "model_pca = KNeighborsClassifier()\n",
        "model_pca.fit(X_train_pca, y_train)\n",
        "acc_pca = model_pca.score(X_test_pca, y_test)\n",
        "\n",
        "print(\"Compare accuracy before and after PCA on Wine dataset\")\n",
        "print(f\"Original Accuracy: {acc_original:.4f}, PCA Accuracy: {acc_pca:.4f}\")\n"
      ],
      "metadata": {
        "colab": {
          "base_uri": "https://localhost:8080/"
        },
        "id": "j_Quzyx62_M2",
        "outputId": "f42049ee-dd09-4d95-e51e-42f8574b0afd"
      },
      "execution_count": 21,
      "outputs": [
        {
          "output_type": "stream",
          "name": "stdout",
          "text": [
            "Compare accuracy before and after PCA on Wine dataset\n",
            "Original Accuracy: 0.7222, PCA Accuracy: 0.7222\n"
          ]
        }
      ]
    },
    {
      "cell_type": "code",
      "source": [
        "# Q39: Perform classification with PCA and Logistic Regression on Iris dataset.\n",
        "from sklearn.linear_model import LogisticRegression\n",
        "\n",
        "pca = PCA(n_components=2)\n",
        "X_pca = pca.fit_transform(iris.data)\n",
        "X_train, X_test, y_train, y_test = train_test_split(X_pca, iris.target, test_size=0.2, random_state=42)\n",
        "log_model = LogisticRegression()\n",
        "log_model.fit(X_train, y_train)\n",
        "\n",
        "print(\"Perform classification with PCA and Logistic Regression on Iris dataset\")\n",
        "print(\"Accuracy:\", log_model.score(X_test, y_test))\n"
      ],
      "metadata": {
        "colab": {
          "base_uri": "https://localhost:8080/"
        },
        "id": "yT4hdulo2_Jc",
        "outputId": "9c475941-e2eb-4bcb-e6f8-fa0b8f7a53b0"
      },
      "execution_count": 22,
      "outputs": [
        {
          "output_type": "stream",
          "name": "stdout",
          "text": [
            "Perform classification with PCA and Logistic Regression on Iris dataset\n",
            "Accuracy: 1.0\n"
          ]
        }
      ]
    },
    {
      "cell_type": "code",
      "source": [
        "# Q40: Apply PCA and visualize data (first 5 rows).\n",
        "pca = PCA(n_components=2)\n",
        "X_pca = pca.fit_transform(iris.data)\n",
        "\n",
        "print(\"Apply PCA and visualize data\")\n",
        "print(\"First 5 PCA Transformed Rows:\\n\", X_pca[:5])\n"
      ],
      "metadata": {
        "colab": {
          "base_uri": "https://localhost:8080/"
        },
        "id": "dVhUbSSq2_GE",
        "outputId": "05c53bf7-6001-478e-df0e-a2aa932edbfa"
      },
      "execution_count": 23,
      "outputs": [
        {
          "output_type": "stream",
          "name": "stdout",
          "text": [
            "Apply PCA and visualize data\n",
            "First 5 PCA Transformed Rows:\n",
            " [[-2.68412563  0.31939725]\n",
            " [-2.71414169 -0.17700123]\n",
            " [-2.88899057 -0.14494943]\n",
            " [-2.74534286 -0.31829898]\n",
            " [-2.72871654  0.32675451]]\n"
          ]
        }
      ]
    },
    {
      "cell_type": "code",
      "source": [
        "# Q41: Evaluate KNN with distance metric 'manhattan'.\n",
        "model = KNeighborsClassifier(metric='manhattan')\n",
        "model.fit(X_train, y_train)\n",
        "\n",
        "print(\"Evaluate KNN with distance metric 'manhattan'\")\n",
        "print(\"Accuracy:\", model.score(X_test, y_test))"
      ],
      "metadata": {
        "colab": {
          "base_uri": "https://localhost:8080/"
        },
        "id": "QHlk57ad2_CQ",
        "outputId": "a2d3feab-357b-4ccd-ba30-0df7bec87250"
      },
      "execution_count": 24,
      "outputs": [
        {
          "output_type": "stream",
          "name": "stdout",
          "text": [
            "Evaluate KNN with distance metric 'manhattan'\n",
            "Accuracy: 1.0\n"
          ]
        }
      ]
    },
    {
      "cell_type": "code",
      "source": [
        "# Q42: Explain role of StandardScaler before KNN.\n",
        "print(\" Explain role of StandardScaler before KNN\")\n",
        "print(\"StandardScaler ensures all features contribute equally to distance calculation in KNN.\")"
      ],
      "metadata": {
        "colab": {
          "base_uri": "https://localhost:8080/"
        },
        "id": "CMgdzLWP2-9g",
        "outputId": "194aac5d-f79a-44af-d3b1-379600bfd312"
      },
      "execution_count": 25,
      "outputs": [
        {
          "output_type": "stream",
          "name": "stdout",
          "text": [
            " Explain role of StandardScaler before KNN\n",
            "StandardScaler ensures all features contribute equally to distance calculation in KNN.\n"
          ]
        }
      ]
    },
    {
      "cell_type": "code",
      "source": [
        "# Q43: Calculate ROC AUC for Logistic Regression on binary Iris classification.\n",
        "from sklearn.metrics import roc_auc_score\n",
        "\n",
        "X_binary = iris.data[iris.target != 2]\n",
        "y_binary = iris.target[iris.target != 2]\n",
        "X_train, X_test, y_train, y_test = train_test_split(X_binary, y_binary, test_size=0.2, random_state=42)\n",
        "model = LogisticRegression()\n",
        "model.fit(X_train, y_train)\n",
        "y_prob = model.predict_proba(X_test)[:, 1]\n",
        "auc = roc_auc_score(y_test, y_prob)\n",
        "\n",
        "print(\"Calculate ROC AUC for Logistic Regression on binary Iris classification\")\n",
        "print(\"ROC AUC Score:\", auc)\n"
      ],
      "metadata": {
        "colab": {
          "base_uri": "https://localhost:8080/"
        },
        "id": "tPaknacX2-5l",
        "outputId": "6730e10a-924e-4926-9028-de2184a96bb0"
      },
      "execution_count": 26,
      "outputs": [
        {
          "output_type": "stream",
          "name": "stdout",
          "text": [
            "Calculate ROC AUC for Logistic Regression on binary Iris classification\n",
            "ROC AUC Score: 1.0\n"
          ]
        }
      ]
    },
    {
      "cell_type": "code",
      "source": [
        "# Q44: Train KNN on standardized and non-standardized data.\n",
        "scaler = StandardScaler()\n",
        "X_train_scaled = scaler.fit_transform(X_train)\n",
        "X_test_scaled = scaler.transform(X_test)\n",
        "\n",
        "model_raw = KNeighborsClassifier()\n",
        "model_raw.fit(X_train, y_train)\n",
        "acc_raw = model_raw.score(X_test, y_test)\n",
        "\n",
        "model_scaled = KNeighborsClassifier()\n",
        "model_scaled.fit(X_train_scaled, y_train)\n",
        "acc_scaled = model_scaled.score(X_test_scaled, y_test)\n",
        "\n",
        "print(\"Train KNN on standardized and non-standardized data\")\n",
        "print(f\"Accuracy without scaling: {acc_raw:.4f}, with scaling: {acc_scaled:.4f}\")\n"
      ],
      "metadata": {
        "colab": {
          "base_uri": "https://localhost:8080/"
        },
        "id": "j3ndEb6c2-16",
        "outputId": "0a6a6475-5782-40f0-f9ff-f5ff175dc2b4"
      },
      "execution_count": 27,
      "outputs": [
        {
          "output_type": "stream",
          "name": "stdout",
          "text": [
            "Train KNN on standardized and non-standardized data\n",
            "Accuracy without scaling: 1.0000, with scaling: 1.0000\n"
          ]
        }
      ]
    },
    {
      "cell_type": "code",
      "source": [
        "# Q45: Apply PCA then train KNN classifier on Iris dataset.\n",
        "pca = PCA(n_components=2)\n",
        "X_pca = pca.fit_transform(iris.data)\n",
        "X_train, X_test, y_train, y_test = train_test_split(X_pca, iris.target, test_size=0.2, random_state=42)\n",
        "model = KNeighborsClassifier()\n",
        "model.fit(X_train, y_train)\n",
        "\n",
        "print(\"Apply PCA then train KNN classifier on Iris dataset\")\n",
        "print(\"Accuracy:\", model.score(X_test, y_test))"
      ],
      "metadata": {
        "colab": {
          "base_uri": "https://localhost:8080/"
        },
        "id": "U7I6690M2-yA",
        "outputId": "19538b35-cd2d-4d9b-8e92-3c208d84646c"
      },
      "execution_count": 28,
      "outputs": [
        {
          "output_type": "stream",
          "name": "stdout",
          "text": [
            "Apply PCA then train KNN classifier on Iris dataset\n",
            "Accuracy: 1.0\n"
          ]
        }
      ]
    },
    {
      "cell_type": "code",
      "source": [
        "# Q46: Difference between PCA and StandardScaler.\n",
        "print(\"Difference between PCA and StandardScaler\")\n",
        "print(\"PCA reduces dimensions based on variance; StandardScaler standardizes features to mean 0 and variance 1.\")\n"
      ],
      "metadata": {
        "colab": {
          "base_uri": "https://localhost:8080/"
        },
        "id": "tNlXNpre2-tU",
        "outputId": "b2045ce6-738c-47c6-eed5-7e4428f3cd52"
      },
      "execution_count": 29,
      "outputs": [
        {
          "output_type": "stream",
          "name": "stdout",
          "text": [
            "Difference between PCA and StandardScaler\n",
            "PCA reduces dimensions based on variance; StandardScaler standardizes features to mean 0 and variance 1.\n"
          ]
        }
      ]
    },
    {
      "cell_type": "code",
      "source": [
        "# Q47: Use PCA to visualize Wine dataset in 2D (first 5 rows).\n",
        "pca = PCA(n_components=2)\n",
        "X_pca = pca.fit_transform(wine.data)\n",
        "\n",
        "print(\"Use PCA to visualize Wine dataset in 2D\")\n",
        "print(\"First 5 PCA transformed rows:\\n\", X_pca[:5])\n"
      ],
      "metadata": {
        "colab": {
          "base_uri": "https://localhost:8080/"
        },
        "id": "2OxQf7lO2-qM",
        "outputId": "a8c8b233-1b9a-47ea-f4ff-ba1b6eb158b1"
      },
      "execution_count": 30,
      "outputs": [
        {
          "output_type": "stream",
          "name": "stdout",
          "text": [
            "Use PCA to visualize Wine dataset in 2D\n",
            "First 5 PCA transformed rows:\n",
            " [[ 3.18562979e+02  2.14921307e+01]\n",
            " [ 3.03097420e+02 -5.36471768e+00]\n",
            " [ 4.38061133e+02 -6.53730945e+00]\n",
            " [ 7.33240139e+02  1.92729032e-01]\n",
            " [-1.15714285e+01  1.84899946e+01]]\n"
          ]
        }
      ]
    },
    {
      "cell_type": "code",
      "source": [
        "# Q48: Train and evaluate KNN classifier using PCA-reduced data.\n",
        "X_train, X_test, y_train, y_test = train_test_split(X_pca, wine.target, test_size=0.2, random_state=42)\n",
        "model = KNeighborsClassifier()\n",
        "model.fit(X_train, y_train)\n",
        "\n",
        "print(\"Train and evaluate KNN classifier using PCA-reduced data\")\n",
        "print(\"Accuracy:\", model.score(X_test, y_test))\n"
      ],
      "metadata": {
        "colab": {
          "base_uri": "https://localhost:8080/"
        },
        "id": "LqqdmNhW2-nE",
        "outputId": "16507355-b877-42ca-c66f-36855bccaaf8"
      },
      "execution_count": 31,
      "outputs": [
        {
          "output_type": "stream",
          "name": "stdout",
          "text": [
            "Train and evaluate KNN classifier using PCA-reduced data\n",
            "Accuracy: 0.7222222222222222\n"
          ]
        }
      ]
    }
  ]
}